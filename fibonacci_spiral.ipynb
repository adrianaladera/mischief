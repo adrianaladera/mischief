{
 "cells": [
  {
   "attachments": {},
   "cell_type": "markdown",
   "metadata": {},
   "source": [
    "# The wonderful world of Fibonacci\n",
    "\n",
    "By Adriana Ladera and Jefferson Taylor Jr.\n",
    "\n",
    "You've probably heard other nerds talk about the beauty of the Fibonacci sequence. It's a phenomenon that occurs in the arrangement of pine cone petals, sunflower seeds, and even in music!\n",
    "\n",
    "The formula to obtain the Fibonacci sequence is as follows:\n",
    "\n",
    "$F_n = F_{n-1} + F_{n-2}$\n",
    "\n",
    "Starting from 0.\n",
    "\n",
    "Perhaps one of the most common ways to visualize the Fibonacci sequence is via the spiral, which is what we'll do here!"
   ]
  },
  {
   "cell_type": "code",
   "execution_count": null,
   "metadata": {},
   "outputs": [],
   "source": [
    "import numpy as np\n",
    "from matplotlib import pyplot as plt\n",
    "from itertools import cycle, accumulate\n",
    "from functools import reduce\n",
    "from operator import mul, add\n",
    "\n",
    "# cyclic sequence\n",
    "X = [-1, 1, 1, -1]\n",
    "Y = [-1, -1, 1, 1]"
   ]
  },
  {
   "attachments": {},
   "cell_type": "markdown",
   "metadata": {},
   "source": [
    "## Generating Fibonacci numbers and coordinates\n",
    "\n",
    "fib_nums generates a list of Fibonacci numbers and fib_coords turns the sequence into a list of coordinates"
   ]
  },
  {
   "cell_type": "code",
   "execution_count": null,
   "metadata": {},
   "outputs": [],
   "source": [
    "def fib_nums(n: int) -> list[int]:\n",
    "    \"\"\"Generates sequence of Fibonacci numbers into a list\n",
    "\n",
    "    Parameters\n",
    "    ----------\n",
    "    n : int\n",
    "        Size of Fibonacci list to generate\n",
    "    \n",
    "    Returns\n",
    "    -------\n",
    "    list\n",
    "        List of Fibonacci numbers\n",
    "    \"\"\"\n",
    "    sequence = [0, 1]\n",
    "    for _ in range(2,n):\n",
    "        sequence.append(sequence[-1] + sequence[-2])\n",
    "\n",
    "    return sequence\n",
    "\n",
    "def fib_coords(fib_sequence: list[int]) -> list[tuple[int, int]]:\n",
    "    \"\"\"Generates list of (x, y) coordinates based on the fibonacci sequence list\n",
    "\n",
    "    Parameters\n",
    "    ----------\n",
    "    fib_sequence : list[int]\n",
    "        Sequence of Fibonacci ints in a list\n",
    "\n",
    "    Returns\n",
    "    -------\n",
    "    list\n",
    "        A list of tuples with (x, y) coordinates\n",
    "    \"\"\"\n",
    "    def axis(c: list[int]):\n",
    "        \"\"\"Generates a list for the X or Y axis\n",
    "\n",
    "        Parameters\n",
    "        ----------\n",
    "        c : list[int]\n",
    "            Cycle for determining positive or negative product\n",
    "        \"\"\"\n",
    "        z = zip(fib_sequence, cycle(c))\n",
    "        r = [reduce(mul, t) for t in z]\n",
    "        return accumulate(r, add)\n",
    "    \n",
    "    return list(zip(axis(X), axis(Y)))"
   ]
  },
  {
   "attachments": {},
   "cell_type": "markdown",
   "metadata": {},
   "source": [
    "## Now we shall plot ze spiral muahahah >:D\n",
    "\n",
    "Plotting the spiral requires a bit of unit circle geometry and finding missing points. But have no fear, the math is quite simple!\n",
    "\n",
    "First, we iterate through the Fibonacci numbers that we obtained above, and then map those to the cyclic sequence (X and Y above) accordingly. \n",
    "\n",
    "The square of a Fibonacci number encases a quarter circle with four possible cases. The list of coordinates can also be used to create start points $(S_x, S_y)$ and end points $(E_x, E_y)$ for the arc to be traced, as well as the centers C:\n",
    "\n",
    "- if X = Y: center = $(E_x, S_y)$\n",
    "- if X $\\neq$: center = $(S_x, E_y)$\n",
    "\n",
    "We use the cases of the cyclic pairs (X,Y) to determine which quadrant of the unit circle will be used:\n",
    "- if (X,Y) $\\rightarrow$ (+,+):$~~\\theta = [0, \\frac{\\pi}{2}]$\n",
    "- if (X,Y) $\\rightarrow$ (-,+):$~~\\theta = [ \\frac{\\pi}{2}, \\pi]$\n",
    "- if (X,Y) $\\rightarrow$ (-,-):$~~\\theta = [\\pi, \\frac{3\\pi}{2}]$\n",
    "- if (X,Y) $\\rightarrow$ (+,-):$~~\\theta = [ \\frac{3\\pi}{2}, 2\\pi]$\n",
    "\n",
    "To plot the square of the Fibonacci number that encases the half circle, we use the points S, E, and C to obtain the final point F of the square. The distance from S to C should equal those from S to E and C to F:\n",
    "\n",
    "- $\\vec{SC} \\leftarrow (S_x - C_x, S_y, C_y)$\n",
    "- $\\vec{EC} \\leftarrow (E_x - C_x, E_y, C_y)$\n",
    "\n",
    "The final point can be found by translating S by the vector $\\vec{EC}$:\n",
    "\n",
    "- $F \\leftarrow (S_x + \\vec{EC}_x, S_y, \\vec{EC}_y)$\n",
    "\n",
    "Put this all together and voila! You have yourself a Fibonacci spiral!"
   ]
  },
  {
   "cell_type": "code",
   "execution_count": null,
   "metadata": {},
   "outputs": [],
   "source": [
    "def plot_fibonacci(n):\n",
    "    '''Plots the Fibonacci spiral for n Fibonacci numbers.\n",
    "    n --> int: total amount of Fibonacci numbers'''\n",
    "\n",
    "    fuck, ax = plt.subplots(1, figsize=(8,8), dpi=600)\n",
    "\n",
    "    fib_points = fib_coords(fib_nums(n))\n",
    "    cunt = 1\n",
    "    for i in range(len(fib_points)):\n",
    "        if i % 4 == 0:\n",
    "            cunt = 0 # resetting cyclic sequence\n",
    "        if i >= 0 and i + 1 < len(fib_points):\n",
    "            start_point = fib_points[i]\n",
    "            end_point = fib_points[i+1]\n",
    "\n",
    "            # choosing center points\n",
    "            if X[cunt] == Y[cunt]:\n",
    "                center = (end_point[0], start_point[1]) \n",
    "            else:\n",
    "                center = (start_point[0], end_point[1]) \n",
    "\n",
    "            # unit circle range\n",
    "            if X[cunt] > 0 and Y[cunt] > 0: # + + \n",
    "                theta = np.linspace(0, np.pi / 2, 100)\n",
    "            elif X[cunt] < 0 and Y[cunt] > 0: # - + \n",
    "                theta = np.linspace(np.pi / 2, np.pi, 100)\n",
    "            elif X[cunt] < 0 and Y[cunt] < 0: # - - \n",
    "                theta = np.linspace(np.pi, 3*np.pi / 2, 100)\n",
    "            elif X[cunt] > 0 and Y[cunt] < 0: # + -\n",
    "                theta = np.linspace(3*np.pi / 2, 2*np.pi, 100)\n",
    "            \n",
    "            # get the radius\n",
    "            radius = np.sqrt((start_point[0] - center[0])**2 + (start_point[1] - center[1])**2)\n",
    "\n",
    "            # calculate the x and y coordinates of the quarter circle\n",
    "            x = center[0] + radius * np.cos(theta)\n",
    "            y = center[1] + radius * np.sin(theta)\n",
    "\n",
    "            # getting stuff for the square\n",
    "            end_center = (end_point[0] - center[0], end_point[1] - center[1])\n",
    "            last_point = (start_point[0] + end_center[0], start_point[1] + end_center[1])\n",
    "            square_points = [center, start_point, last_point, end_point, center]\n",
    "            x_coords, y_coords = zip(*square_points)\n",
    "\n",
    "            # plotting\n",
    "            ax.plot(x_coords, y_coords, color='#000000') # square\n",
    "            ax.plot(x,y, color='r') # quarter circle\n",
    "\n",
    "            ax.set_aspect('equal', adjustable='box')\n",
    "        \n",
    "        cunt += 1\n",
    "        \n",
    "    plt.show()"
   ]
  },
  {
   "attachments": {},
   "cell_type": "markdown",
   "metadata": {},
   "source": [
    "## Plot the spiral!"
   ]
  },
  {
   "cell_type": "code",
   "execution_count": null,
   "metadata": {},
   "outputs": [],
   "source": [
    "plot_fibonacci(round(4.20 + 6.9))"
   ]
  },
  {
   "attachments": {},
   "cell_type": "markdown",
   "metadata": {},
   "source": [
    "## See the values\n",
    "\n",
    "What are those Fibonacci numbers you wanted?"
   ]
  },
  {
   "cell_type": "code",
   "execution_count": null,
   "metadata": {},
   "outputs": [],
   "source": [
    "fib_nums(round(4.20 + 6.9))"
   ]
  },
  {
   "cell_type": "code",
   "execution_count": null,
   "metadata": {},
   "outputs": [],
   "source": []
  }
 ],
 "metadata": {
  "kernelspec": {
   "display_name": "deeznuts",
   "language": "python",
   "name": "python3"
  },
  "language_info": {
   "codemirror_mode": {
    "name": "ipython",
    "version": 3
   },
   "file_extension": ".py",
   "mimetype": "text/x-python",
   "name": "python",
   "nbconvert_exporter": "python",
   "pygments_lexer": "ipython3",
   "version": "3.12.4"
  },
  "orig_nbformat": 4
 },
 "nbformat": 4,
 "nbformat_minor": 2
}
